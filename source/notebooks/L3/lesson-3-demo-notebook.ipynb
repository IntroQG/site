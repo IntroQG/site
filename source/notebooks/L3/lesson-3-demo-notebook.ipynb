{
 "cells": [
  {
   "cell_type": "markdown",
   "id": "0fd3b865-cdd4-4c5a-85f7-edf41bac7b3c",
   "metadata": {},
   "source": [
    "# Lesson 3 demonstration notebook\n",
    "\n",
    "## while loops in Python\n",
    "\n",
    "A `while` loop in Python can be used to iterate in a loop until a certain condition is met. In the example below we iterate until the name `Uncle Ismo` is encountered."
   ]
  },
  {
   "cell_type": "code",
   "execution_count": 1,
   "id": "0d8ea69b-fd6d-46bf-ab43-1d5687113068",
   "metadata": {},
   "outputs": [
    {
     "name": "stdout",
     "output_type": "stream",
     "text": [
      "Dave\n",
      "Leevi\n"
     ]
    }
   ],
   "source": [
    "names = ['Dave', 'Leevi', 'Uncle Ismo', 'Woofy']\n",
    "\n",
    "name_index = 0\n",
    "while names[name_index] != 'Uncle Ismo':\n",
    "    print(names[name_index])\n",
    "    name_index = name_index + 1"
   ]
  },
  {
   "cell_type": "markdown",
   "id": "2d257b0c-22ba-4ad7-82e9-db2c59cde462",
   "metadata": {},
   "source": [
    "For certain kinds of \"iterative\" problems, it can be better to use a `while` loop than a `for` loop to run a calculation until a \"converged\" solution is found.\n",
    "\n",
    "The example below is a code that finds the square root of an input number starting from an initial guess. An example with a `for` loop is shown first, and then the equivalent calculation using a `while` loop. I have modified the numbers from the example in the lesson video so that the same number and guess are used in both examples. You will notice that fewer iterations are used in the `while` loop case because the calculation stops once the solution for estimate of the square root is no longer changing."
   ]
  },
  {
   "cell_type": "code",
   "execution_count": 2,
   "id": "9e9caadd-e9a9-4209-a43d-f67745254848",
   "metadata": {},
   "outputs": [
    {
     "name": "stdout",
     "output_type": "stream",
     "text": [
      "The square root of 142344 is 377.2850381342997 after 20 iterations.\n"
     ]
    }
   ],
   "source": [
    "number = 142344\n",
    "guess = 72234\n",
    "\n",
    "for i in range(20):\n",
    "    guess = 0.5 * (guess + number / guess)\n",
    "    #print(guess)\n",
    "    \n",
    "print(f\"The square root of {number} is {guess} after {i+1} iterations.\")"
   ]
  },
  {
   "cell_type": "code",
   "execution_count": 3,
   "id": "ceb5703d-6013-481c-8054-efd6ec4dc155",
   "metadata": {},
   "outputs": [
    {
     "name": "stdout",
     "output_type": "stream",
     "text": [
      "The square root of 142344 is 377.2850381342997 after 13 iterations.\n"
     ]
    }
   ],
   "source": [
    "number = 142344\n",
    "guess = 72234\n",
    "guess_diff = 1.0\n",
    "\n",
    "counter = 0\n",
    "while guess_diff > 0.0000001:\n",
    "    counter = counter + 1\n",
    "    guess_orig = guess\n",
    "    guess = 0.5 * (guess + number / guess)\n",
    "    guess_diff = abs(guess_orig - guess)\n",
    "    \n",
    "print(f\"The square root of {number} is {guess} after {counter} iterations.\")"
   ]
  },
  {
   "cell_type": "markdown",
   "id": "1600d863-3434-4980-978c-ac2a8c149ed8",
   "metadata": {},
   "source": [
    "## Logarithmic scaling and plot axes\n",
    "\n",
    "The other point we discussed was related to using a logarithmic scale on one or more of the plot axes and how to maintain a uniform spacing between points used for calculations.\n",
    "\n",
    "First, we created two NumPy arrays with values going from 0.01 to 100.0 either with linear (`x`) or logarithmic (´x2´) spacing between values."
   ]
  },
  {
   "cell_type": "code",
   "execution_count": 11,
   "id": "f670e662-1a46-4e5e-8447-dd1bbdbf57aa",
   "metadata": {},
   "outputs": [],
   "source": [
    "import numpy as np\n",
    "import matplotlib.pyplot as plt"
   ]
  },
  {
   "cell_type": "code",
   "execution_count": 14,
   "id": "52cd75e8-bbca-4098-9e19-0e011f45951b",
   "metadata": {},
   "outputs": [],
   "source": [
    "x = np.linspace(0.01, 100.0, 11)"
   ]
  },
  {
   "cell_type": "code",
   "execution_count": 15,
   "id": "f6504ac5-0633-48c4-a92b-21407f3ce8fb",
   "metadata": {},
   "outputs": [
    {
     "data": {
      "text/plain": [
       "array([1.0000e-02, 1.0009e+01, 2.0008e+01, 3.0007e+01, 4.0006e+01,\n",
       "       5.0005e+01, 6.0004e+01, 7.0003e+01, 8.0002e+01, 9.0001e+01,\n",
       "       1.0000e+02])"
      ]
     },
     "execution_count": 15,
     "metadata": {},
     "output_type": "execute_result"
    }
   ],
   "source": [
    "x"
   ]
  },
  {
   "cell_type": "code",
   "execution_count": 16,
   "id": "0e71985f-c896-4b2a-94d1-d85bdab0e0f4",
   "metadata": {},
   "outputs": [],
   "source": [
    "x2 = np.logspace(-2, 2, 11)"
   ]
  },
  {
   "cell_type": "code",
   "execution_count": 17,
   "id": "7b5e5465-ed63-4ef8-9987-2b9791444fa3",
   "metadata": {},
   "outputs": [
    {
     "data": {
      "text/plain": [
       "array([1.00000000e-02, 2.51188643e-02, 6.30957344e-02, 1.58489319e-01,\n",
       "       3.98107171e-01, 1.00000000e+00, 2.51188643e+00, 6.30957344e+00,\n",
       "       1.58489319e+01, 3.98107171e+01, 1.00000000e+02])"
      ]
     },
     "execution_count": 17,
     "metadata": {},
     "output_type": "execute_result"
    }
   ],
   "source": [
    "x2"
   ]
  },
  {
   "cell_type": "markdown",
   "id": "0b47e7b8-437b-44d0-9ede-ebe1d4243b72",
   "metadata": {},
   "source": [
    "To visualize the difference in the spacing between the points we can look at two different plots of the values. The index of the points is on the x-axis, and the values themselves on the y-axis. In the first case, we have linear scalint of the points on the y-axis and you can see the points of `x` are equal, whereas the points in `x2` are not."
   ]
  },
  {
   "cell_type": "code",
   "execution_count": 21,
   "id": "ebfcf429-2ea6-4fd8-befa-8b8b08302ada",
   "metadata": {},
   "outputs": [
    {
     "data": {
      "text/plain": [
       "[<matplotlib.lines.Line2D at 0x7efd09269220>]"
      ]
     },
     "execution_count": 21,
     "metadata": {},
     "output_type": "execute_result"
    },
    {
     "data": {
      "image/png": "[encoded data removed]",
      "text/plain": [
       "<Figure size 432x288 with 1 Axes>"
      ]
     },
     "metadata": {
      "needs_background": "light"
     },
     "output_type": "display_data"
    }
   ],
   "source": [
    "fig, ax = plt.subplots(1, 1)\n",
    "\n",
    "ax.plot(x, 'o')\n",
    "ax.plot(x2, 'ro')"
   ]
  },
  {
   "cell_type": "markdown",
   "id": "06f9c347-b66e-4535-85e1-59135adbbfed",
   "metadata": {},
   "source": [
    "In contrast, when the y-axis has a logarithmic scale, the `x2` points are now uniformly spaced and those in `x` are not. This can be important to ensure your plots have good representation of all values when visualizing the data."
   ]
  },
  {
   "cell_type": "code",
   "execution_count": 22,
   "id": "0a192125-42c4-423d-aaed-a02833e96a43",
   "metadata": {},
   "outputs": [
    {
     "data": {
      "image/png": "[encoded data removed]",
      "text/plain": [
       "<Figure size 432x288 with 1 Axes>"
      ]
     },
     "metadata": {
      "needs_background": "light"
     },
     "output_type": "display_data"
    }
   ],
   "source": [
    "fig, ax = plt.subplots(1, 1)\n",
    "\n",
    "ax.plot(x, 'o')\n",
    "ax.plot(x2, 'ro')\n",
    "ax.set_yscale(\"log\")"
   ]
  }
 ],
 "metadata": {
  "kernelspec": {
   "display_name": "Python 3 (ipykernel)",
   "language": "python",
   "name": "python3"
  },
  "language_info": {
   "codemirror_mode": {
    "name": "ipython",
    "version": 3
   },
   "file_extension": ".py",
   "mimetype": "text/x-python",
   "name": "python",
   "nbconvert_exporter": "python",
   "pygments_lexer": "ipython3",
   "version": "3.8.12"
  }
 },
 "nbformat": 4,
 "nbformat_minor": 5
}
