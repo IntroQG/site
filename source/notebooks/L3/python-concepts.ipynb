{
 "cells": [
  {
   "cell_type": "markdown",
   "id": "4536607e-9040-40cc-b2e0-27b8d98c4d54",
   "metadata": {},
   "source": [
    "# Python concepts\n",
    "\n",
    "Here we present a few new Python concepts that may be helpful in completing this week's exercise.\n",
    "\n",
    "## While loops\n",
    "\n",
    "A `while` loop is another type of loop in Python. We are already familiar with the `for` loop, which is typically used to iterate a certain number of times. In contrast, a `while` loop is used to iterate until a condition is met. The general syntax is below.\n",
    "\n",
    "```python\n",
    "while condition:\n",
    "    do things\n",
    "```\n",
    "\n",
    "So, the basic idea is that as long as `condition` is true, the loop will continue running. Like a `for` loop, the statement of a `while` loop must end with a `:` character and the code that is executed in the loop must be indented beneath the `while` statement.\n",
    "\n",
    "Let's have a look at an example."
   ]
  },
  {
   "cell_type": "code",
   "execution_count": null,
   "id": "798fd1c9-3ecf-460a-8aa3-16bbbc817bf2",
   "metadata": {
    "tags": []
   },
   "outputs": [],
   "source": [
    "names = ['Dave', 'Leevi', 'Uncle Ismo', 'Woofy']\n",
    "\n",
    "i = 0\n",
    "while names[i] != 'Uncle Ismo':\n",
    "    print(names[i])\n",
    "    i = i + 1"
   ]
  },
  {
   "cell_type": "markdown",
   "id": "84d4c47a-2944-4ccb-83ff-86b8f108f7de",
   "metadata": {},
   "source": [
    "So, what happens here? Well, first we define a Python list of names. After that, the variable `i` is set equal to zero to be able to reference the first index value in the list of names. The `while` loop here is then used to iterate over the values in the list as long as the condition `names[i] != 'Uncle Ismo'` is true. Within the loop we simply print out the current name and then add 1 to `i` in each iteration. As you can see, the loop terminates when the condition `names[i] != 'Uncle Ismo'` is false.\n",
    "\n",
    "### When to use a while loop\n",
    "\n",
    "It is true that a `for` loop can be used for many tasks in Python, but there are certain cases where it makes better sense to use a `while` loop. One example is when checking for convergence of a mathematical equation. \n",
    "\n",
    "As an example, let's look at how we can use a loop to [find the square root](https://en.wikipedia.org/wiki/Methods_of_computing_square_roots) of an input number starting from an initial guess. We will do this by iterating and estimating the square root of a number $S$ starting each iteration from the current best estimate $x_{n}$. Mathematically, the equation for estimating the square root is\n",
    "\n",
    "$$\n",
    "\\Large\n",
    "x_{n+1} = \\frac{1}{2} \\left( x_{n} + \\frac{S}{x_{n}}\\right)\n",
    "$$\n",
    "\n",
    "We can start with how we might normally approach this problem using a `for` loop."
   ]
  },
  {
   "cell_type": "code",
   "execution_count": null,
   "id": "c536023f-146c-4714-bd3b-c20aef332e40",
   "metadata": {
    "tags": []
   },
   "outputs": [],
   "source": [
    "number = 142344\n",
    "guess = 72234\n",
    "\n",
    "for i in range(20):\n",
    "    guess = 0.5 * (guess + number / guess)\n",
    "    print(guess)\n",
    "    \n",
    "print(f\"The square root of {number} is {guess} after {i+1} iterations.\")"
   ]
  },
  {
   "cell_type": "markdown",
   "id": "2be76268-050b-4ace-9978-c1930cdec9d4",
   "metadata": {},
   "source": [
    "As you can see above, the `for` loop keeps iterating for all 20 iterations, even though the estimate of the square root does not change for the last 9 iterations. If we now consider the same exercise using a `while` loop, then we end up with the following:"
   ]
  },
  {
   "cell_type": "code",
   "execution_count": null,
   "id": "892f163c-105d-49be-8703-74a16d87f630",
   "metadata": {
    "tags": []
   },
   "outputs": [],
   "source": [
    "number = 142344\n",
    "guess = 72234\n",
    "guess_diff = 1.0\n",
    "\n",
    "counter = 0\n",
    "while guess_diff > 0.0000001:\n",
    "    guess_orig = guess\n",
    "    guess = 0.5 * (guess + number / guess)\n",
    "    print(guess)\n",
    "    guess_diff = abs(guess_orig - guess)\n",
    "    counter = counter + 1\n",
    "    \n",
    "print(f\"The square root of {number} is {guess} after {counter} iterations.\")"
   ]
  },
  {
   "cell_type": "markdown",
   "id": "af203c2a-3b92-4a6f-a9c7-1aee3d4e7b2c",
   "metadata": {},
   "source": [
    "As you can see, fewer iterations are used in the `while` loop case because the calculation stops once the solution for estimate of the square root is no longer changing. Although it might not matter a great deal with a \"light\" calculation like this, saving iterations becomes important as the loop calculations become more computationally expensive.\n",
    "\n",
    "And the code above might look a bit more complex than the `for` loop equivalent, but that is mainly because we need to track the difference between estimates of the square root to assess convergence. Also, the variable `counter` is not needed at all, but included here just to count the number of iterations."
   ]
  },
  {
   "cell_type": "markdown",
   "id": "f783d851-36be-4444-a662-9522d189a062",
   "metadata": {},
   "source": [
    "### Iteration applied to Dodson's method\n",
    "\n",
    "One of the tasks for this week's exercise is to create a function to estimate an effective closure temperature for different thermochronometer systems using [Dodson's method](https://doi.org/10.1007/BF00373790). In order to do this we will need to use some kind of loop because the situation is such that in order to estimate the effective closure temperature $T_{\\mathrm{c}}$ we need to also estimate the characteristic time for a change in diffusivity $\\tau$, which depends on $T_{\\mathrm{c}}$. Since we need both values in both equations, a simple option would be to estimate the needed values using iterations and check to see when the estimated value of $T_{\\mathrm{c}}$ stops changing. We can test this idea below. As a reminder, the equations for the effective closure temperature $T_{\\mathrm{c}}$ and characteristic time $\\tau$ are below.\n",
    "\n",
    "$$\n",
    "\\large\n",
    "T_{\\mathrm{c}} = \\frac{E_{\\mathrm{a}}}{R \\ln \\left( A \\tau D_{0} / a^{2} \\right)}\n",
    "$$\n",
    "\n",
    "*Equation 1. The effective closure temperature according to Dodson's method, where $E_{\\mathrm{a}}$ is the activation energy, $R$ is the universal gas constant, $A$ is a geometric factor ($A = 25$ for a sphere, $A = 27$ for a cylinder, and $A = 8.7$ for a planar sheet), $\\tau$ is time for the diffusivity to decrease by a factor of 1/e, $D_{0}$ is the diffusivity at infinite temperature and $a$ is the diffusion domain (we'll assume this is the size of the mineral).*\n",
    "\n",
    "$$\n",
    "\\large\n",
    "\\tau = -\\frac{R T^{2}}{E_{\\mathrm{a}} dT/dt}\n",
    "$$\n",
    "\n",
    "*Equation 2. The characteristic time for a change in diffusivity, where $dT/dt$ is the cooling rate.*\n",
    "\n",
    "#### Pseudocode for calculating an effective closure temperature\n",
    "\n",
    "Overview of the idea.\n",
    "\n",
    "1. Define the parameter values and constants\n",
    "2. Define an initial guess for the closure temperature and difference in closure temperature from the previous iteration (should be large to start - perhaps 100.0)\n",
    "3. As long as the difference in closure temperature is larger than some small convergence value (e.g., 0.001), iterate:\n",
    "\n",
    "    - Store the previous closure temperature\n",
    "    - Calculate $\\tau$ using the old closure temperature estimate\n",
    "    - Calculate a new closure temperature using the new value ot $\\tau$\n",
    "    - Store the change in closure temperature from the previous iteration\n",
    "    \n",
    "4. Convert from a closure temperature in Kelvins to degrees Celsius."
   ]
  },
  {
   "cell_type": "markdown",
   "id": "ab81bcfd-01a2-4367-b463-2813348f4c52",
   "metadata": {},
   "source": [
    "## Logarithmic scaling and plot axes\n",
    "\n",
    "Another thing we need to be able to do for this week's exercise is to use log scaling for the plot axes. In doing this, we need to consider two factors:\n",
    "\n",
    "1. Plotting values with a logarithmic axis\n",
    "2. Distributing points where calculations are done to be equally spaced when the plot axis is logarithmic\n",
    "\n",
    "Before talking about either of these, it may be useful to [review the meaning of a logarithm](https://en.wikipedia.org/wiki/Common_logarithm).\n",
    "\n",
    "### Logarithmic array values\n",
    "\n",
    "Let's start with the second point above about distributing points to be equally spaced on a log plot axis. We can investigate this by creating two NumPy arrays going from 0.01 to 100.0 either with linear (`x`) or logarithmic (`x2`) spacing between a total of 11 values. We can start with a familiar example using the NumPy `linspace()` function to create an array."
   ]
  },
  {
   "cell_type": "code",
   "execution_count": null,
   "id": "d2361877-6547-435f-9d14-1a9970fb9a13",
   "metadata": {
    "tags": []
   },
   "outputs": [],
   "source": [
    "# Import NumPy and Matplotlib\n",
    "import numpy as np\n",
    "import matplotlib.pyplot as plt"
   ]
  },
  {
   "cell_type": "code",
   "execution_count": null,
   "id": "a1ca2a55-074d-4eb7-a291-f83e9dd29ebf",
   "metadata": {
    "tags": []
   },
   "outputs": [],
   "source": [
    "x = np.linspace(0.01, 100.0, 11)\n",
    "x"
   ]
  },
  {
   "cell_type": "markdown",
   "id": "a7fb9e2a-edbc-49c6-86f8-4016601d00f5",
   "metadata": {},
   "source": [
    "As expected, the values start at 0.01 and end at 100.0 with a constant increment between them (linear scaling).\n",
    "\n",
    "Now we can consider a second example with the same range of values, but logarithmic scaling of the increment between values. Here we will use the NumPy `logspace()` function, which will have a constant increment between the (base-10) logarithm of the array values. An important difference between the `linspace()` and `logspace()` functions is that the min and max values for the `logspace()` function should be given as the logarithm of the min/max value. For example, $\\log(0.01) = -2$ and $\\log(100.0) = 2$."
   ]
  },
  {
   "cell_type": "code",
   "execution_count": null,
   "id": "0a42b66c-7016-4ff4-b6a1-d0f9afada9fa",
   "metadata": {
    "tags": []
   },
   "outputs": [],
   "source": [
    "x2 = np.logspace(-2, 2, 11)\n",
    "x2"
   ]
  },
  {
   "cell_type": "code",
   "execution_count": null,
   "id": "f20eee7b-7bfa-4947-b8c0-a96a83b98f6c",
   "metadata": {
    "tags": []
   },
   "outputs": [],
   "source": [
    "np.log10(0.01)"
   ]
  },
  {
   "cell_type": "markdown",
   "id": "c1e67568-faa1-4f5a-8822-bcf48763d79f",
   "metadata": {},
   "source": [
    "As you can see, both arrays start and end with the same values, but the spacing (or increment) between values is different. However, this is a bit hard to compare from the array values themselves and perhaps easier to see visually.\n",
    "\n",
    "### Logarithmic plot axes\n",
    "\n",
    "To visualize the difference in the spacing between the points we can look at two different plots of the values. In these plots, the index of the points is on the x-axis, and the values themselves are on the y-axis. In the first case, we have linear scaling of the points on the y-axis and you can see the points of `x` are equally spaced along the y-axis whereas the points in `x2` are not."
   ]
  },
  {
   "cell_type": "code",
   "execution_count": null,
   "id": "90998fa9-945e-4550-adfe-7f938e1232de",
   "metadata": {
    "tags": []
   },
   "outputs": [],
   "source": [
    "fig, ax = plt.subplots(1, 1)\n",
    "\n",
    "ax.plot(x, 'o', label=\"linear\")\n",
    "ax.plot(x2, 'ro', label=\"log\")\n",
    "\n",
    "# Add axis labels and legend\n",
    "ax.set_xlabel(\"index\")\n",
    "ax.set_ylabel(\"array values\")\n",
    "ax.legend()"
   ]
  },
  {
   "cell_type": "markdown",
   "id": "0508e071-1d66-43e3-bdea-0c0f19734582",
   "metadata": {},
   "source": [
    "Now let's make a different version of the same plot, but set the scaling on the y-axis to be logarithmic. We can do this using the `set_yscale(\"log\")` function."
   ]
  },
  {
   "cell_type": "code",
   "execution_count": null,
   "id": "882ab27d-9196-48d2-891a-9923904bd34b",
   "metadata": {
    "tags": []
   },
   "outputs": [],
   "source": [
    "fig, ax = plt.subplots(1, 1)\n",
    "\n",
    "ax.plot(x, 'o', label=\"linear\")\n",
    "ax.plot(x2, 'ro', label=\"log\")\n",
    "ax.set_yscale(\"log\")\n",
    "\n",
    "# Add axis labels and legend\n",
    "ax.set_xlabel(\"index\")\n",
    "ax.set_ylabel(\"array values\")\n",
    "ax.legend()"
   ]
  },
  {
   "cell_type": "markdown",
   "id": "a92f9bf4-d5b7-4560-9758-9ebfcde75841",
   "metadata": {},
   "source": [
    "With a logarithmic scale for the y-axis you can see that the `x2` points are now equally spaced and those in `x` are not. This can be important to ensure your plots have good representation of all values when visualizing the data."
   ]
  }
 ],
 "metadata": {
  "kernelspec": {
   "display_name": "Python 3 (ipykernel)",
   "language": "python",
   "name": "python3"
  },
  "language_info": {
   "codemirror_mode": {
    "name": "ipython",
    "version": 3
   },
   "file_extension": ".py",
   "mimetype": "text/x-python",
   "name": "python",
   "nbconvert_exporter": "python",
   "pygments_lexer": "ipython3",
   "version": "3.10.13"
  }
 },
 "nbformat": 4,
 "nbformat_minor": 5
}
