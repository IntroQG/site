{
 "cells": [
  {
   "cell_type": "markdown",
   "id": "4b321b70-caf8-461c-aa1f-a6c311654c87",
   "metadata": {},
   "source": [
    "# Diffusion as a concept\n",
    "\n",
    "## Goals for this lesson\n",
    "\n",
    "- Describe **the concept** of diffusion as a process"
   ]
  },
  {
   "cell_type": "markdown",
   "id": "7eff5c03-0935-4aa3-864d-3d8a375d073c",
   "metadata": {},
   "source": [
    "## Diffusion as a geological process\n",
    "\n",
    "Diffusion is a common geological process across different scales and in different environments. Several examples of geological diffusion can be found below.\n",
    "\n",
    "![Thin section view of mineral grains](img/grain-boundary-sliding.png)\n",
    "<br/>**Rock rheology**: Mylonite deformed by mechanisms including grain boundary sliding (diffusion creep). Source: https://virtualexplorer.com.au/special/meansvolume/contribs/tullis/SlideSet/08_Dmrpr/Dmrpr_grano.html.\n",
    "\n",
    "![A raindrop striking a puddle](img/rain-splash.png)\n",
    "<br/>**Hillslope erosion**: Erosion by processes such as rain splash cause diffusion of material along hillslopes. Source: https://geofaculty.uwyo.edu/neil/teaching/geologypics/rain-splash-ester-rogers.jpg.\n",
    "\n",
    "![Figure of He diffusion in a crystal](img/thermochronology.png)\n",
    "<br/>**Thermochronology**: The accumulation of radiogenic elements in host minerals can be as a dating method, where daughter isotopes can be lost via diffusion from inside host crystals. Source: [Shuster et al., 2006](https://doi-org.libproxy.helsinki.fi/10.1016/j.epsl.2006.07.028)."
   ]
  },
  {
   "cell_type": "code",
   "execution_count": null,
   "id": "80f652e7-33fd-46c1-b523-23b3503e127a",
   "metadata": {},
   "outputs": [],
   "source": []
  }
 ],
 "metadata": {
  "kernelspec": {
   "display_name": "Python 3 (ipykernel)",
   "language": "python",
   "name": "python3"
  },
  "language_info": {
   "codemirror_mode": {
    "name": "ipython",
    "version": 3
   },
   "file_extension": ".py",
   "mimetype": "text/x-python",
   "name": "python",
   "nbconvert_exporter": "python",
   "pygments_lexer": "ipython3",
   "version": "3.10.13"
  }
 },
 "nbformat": 4,
 "nbformat_minor": 5
}
