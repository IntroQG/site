{
 "cells": [
  {
   "cell_type": "markdown",
   "metadata": {},
   "source": [
    "# Goodness-of-fit calculations\n",
    "\n",
    "```{attention}\n",
    "Finnish university students are encouraged to use the CSC Notebooks platform.<br/>\n",
    "<a href=\"https://notebooks.csc.fi/\"><img alt=\"CSC badge\" src=\"https://img.shields.io/badge/launch-CSC%20notebook-blue.svg\" style=\"vertical-align:text-bottom\"></a>\n",
    "\n",
    "Others can follow the lesson and fill in their student notebooks using Binder.<br/>\n",
    "<a href=\"https://mybinder.org/v2/gh/introqg/notebooks/master?urlpath=lab/tree/L2/goodness-of-fit.ipynb\"><img alt=\"Binder badge\" src=\"https://img.shields.io/badge/launch-binder-red.svg\" style=\"vertical-align:text-bottom\"></a>\n",
    "```\n",
    "\n",
    "A *goodness-of-fit* calculation provides a way in which we can assess how well a set of predictions \"fit\" some observed or measured values (data). Often, this kind of calculation is useful because it can provide a single number to quantify how well a set of predictions compare to some data. If we consider a very simple case, let's say we have a single mean geochronological age for a rock sample with its uncertainty (the standard deviation for the individual grain ages in the sample in this case). We might visually represent this data as a point to display the mean and an error bar to show the standard deviation as shown below in Figure 2.3.\n",
    "\n",
    "![Data and predictions](img/data-and-predictions.png)\n",
    "\n",
    "_**Figure 2.3**. A measured age (blue circle) with its uncertainty as an errorbar and two predicted ages (white squares)._\n",
    "\n",
    "In this scenario, we might reasonably consider one of the predicted ages to have a \"good\" fit to the data if the predicted age is within the uncertainty of the measured age. Thus, the predicted age on the left \"fits\" the data, whereas the predicted age on the right does not. The general idea is that **in order to be considered a \"good\" fit to the data, the predictions should fall within the uncertainties in the data**."
   ]
  },
  {
   "cell_type": "markdown",
   "metadata": {},
   "source": [
    "## Calculating a goodness of fit\n",
    "\n",
    "Keeping in mind the idea that predictions should be within data uncertainties we can now consider some of the basic goodness-of-fit calculations. The first example is the *weighted sum of the squared errors*, also often refered to simply as chi squared:\n",
    "\n",
    "$$\n",
    "\\large\n",
    "\\chi^{2} = \\sum \\frac{(O_{i} - E_{i})^{2}}{\\sigma_{i}^{2}}\n",
    "$$\n",
    "\n",
    "where $O_{i}$ is the $i$th observed value, $E_{i}$ is the $i$th expected value, and $\\sigma_{i}$ is the $i$th standard deviation.\n",
    "\n",
    "This equation is quite simple in terms of the concept. First, the difference between the mean age and the prediction is calculated and then squared. This ensures that we are only considering the magnitude in the difference in the values, not whether the prediction is smaller or greater than the mean of the data. Second, the calculated difference is divided by the standard deviation squared. If the standard deviation is simply how much a value differs from the mean on average, then dividing by the standard deviation should allow us to see whether or not a prediction is within the uncertainty. How? Let's consider some examples.\n",
    "\n",
    "1. If we assume that the mean value in the data and the prediction are identical, then their difference is zero, and the value of the chi-squared equation for that data point would also be zero.\n",
    "2. If the prediction is exactly 1 standard deviation larger or smaller than the mean of the data, then the difference would be exactly the standard deviation $\\sigma$, in which case the chi-squared value for that data point would be $\\sigma^{2} / \\sigma^{2}$, which equals 1.\n",
    "\n",
    "Thus, for any prediction that falls within the data uncertainty, the chi-squared value for that prediction should be **less than or equal to 1**, with a minimum of zero. Any value that falls outside the data uncertainty would thus have a chi-squared value of **greater than 1**. Unfortunately, since these values for each data point are summed together, it can be a bit difficult to look at just the value of chi squared to determine how well some predictions match some data, unless the value is very close to 1.\n",
    "\n",
    "### Scaling by the number of ages\n",
    "\n",
    "An alternative formulation of the *weighted sum of the squared errors* attempts to make the values slightly easier to interpret by dividing by the number of values used in the calculation, as shown below.\n",
    "\n",
    "$$\n",
    "\\large\n",
    "\\chi^{2} = \\frac{1}{N} \\sum \\frac{(O_{i} - E_{i})^{2}}{\\sigma_{i}^{2}}\n",
    "$$\n",
    "\n",
    "where $N$ is the number of values in the summation.\n",
    "\n",
    "The change above is simple, we're just dividing the calculated chi-squared value by the number of values used in the summation $N$. The advantage here is that now a value of 1.0 or less tells us that on average the predictions are within the uncertainties in the data, and a value of greater than 1.0 says that on average the predictions are not within the uncertainties of the data."
   ]
  },
  {
   "cell_type": "markdown",
   "metadata": {
    "editable": true,
    "slideshow": {
     "slide_type": ""
    },
    "tags": [
     "remove-cell"
    ]
   },
   "source": [
    "## In-class demonstration space\n",
    "\n",
    "The cell below can be used for following live demonstrations during the class lesson."
   ]
  },
  {
   "cell_type": "code",
   "execution_count": null,
   "metadata": {
    "editable": true,
    "slideshow": {
     "slide_type": ""
    },
    "tags": [
     "remove-cell"
    ]
   },
   "outputs": [],
   "source": [
    "# Coding done during class time goes below"
   ]
  }
 ],
 "metadata": {
  "kernelspec": {
   "display_name": "Python 3 (ipykernel)",
   "language": "python",
   "name": "python3"
  },
  "language_info": {
   "codemirror_mode": {
    "name": "ipython",
    "version": 3
   },
   "file_extension": ".py",
   "mimetype": "text/x-python",
   "name": "python",
   "nbconvert_exporter": "python",
   "pygments_lexer": "ipython3",
   "version": "3.11.6"
  }
 },
 "nbformat": 4,
 "nbformat_minor": 4
}
