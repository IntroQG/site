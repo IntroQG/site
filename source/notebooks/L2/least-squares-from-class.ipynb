{
 "cells": [
  {
   "cell_type": "markdown",
   "metadata": {
    "tags": []
   },
   "source": [
    "# Least squares regressions\n",
    "\n",
    "<div class=\"alert alert-warning\"><b>Attention</b><br/>\n",
    "Finnish university students are encouraged to use the CSC Notebooks platform.<br/>\n",
    "<a href=\"https://notebooks.csc.fi/#/blueprint/24958184a3954101a2c701b6d1056feb\"><img alt=\"CSC badge\" src=\"https://img.shields.io/badge/launch-CSC%20notebook-blue.svg\" style=\"vertical-align:text-bottom\"></a>\n",
    "\n",
    "Others can follow the lesson and fill in their student notebooks using Binder.<br/>\n",
    "<a href=\"https://mybinder.org/v2/gh/introqg/notebooks/master?urlpath=lab/tree/L2/least-squares.ipynb\"><img alt=\"Binder badge\" src=\"https://img.shields.io/badge/launch-binder-red.svg\" style=\"vertical-align:text-bottom\"></a>\n",
    "</div>\n",
    "\n",
    "*Least squares regressions* are a common way of determining whether two values are *linearly* related to one an other. In other words, this is a method to determine whether a line is a good \"fit\" to some measured values. Not all data should be expected to be fit well by a line, but linear regressions are a powerful method for determining cases when two variables are directly related to one another. A common example might be the temperature at which magma erupts versus the SiO<sub>2</sub> content of the magma, as shown below in Figure 2.1.\n",
    "\n",
    "![Magma temperatures](img/magma-temps.png)\n",
    "\n",
    "_**Figure 2.1**. Eruption temperatures of magmas as a function of their SiO<sub>2</sub> content with a linear regression line. Source: Figure 16.1 from [McKillup and Dyar, 2010](http://www.cambridge.org/fi/academic/subjects/earth-and-environmental-science/earth-science-general-interest/geostatistics-explained-introductory-guide-earth-scientists?format=HB&isbn=9780521763226)._\n",
    "\n",
    "\n",
    "The general idea with calculating a *linear regression* is that we want to find the equation of a line that best fits some $x$-$y$ data, such as temperature and SiO<sub>2</sub> content in the example above. To do this, we first need to recall the equation for a line:\n",
    "\n",
    "$$\n",
    "\\large\n",
    "y = A + B x\n",
    "$$\n",
    "where $x$ and $y$ are the coordinates of the data points, $A$ is the $y$-intercept, and $B$ is the slope of the line.\n",
    "\n",
    "Thus, in order to calculate a \"best fit\" line to some data, we will need to determine the values of the constants $A$ and $B$. Consider the example below in which $A$ and $B$ are known. If we make the rather common assumption that the uncertainties for the values on the $x$ axis are negligible compared to the uncertainties along the $y$ axis, we can say:\n",
    "\n",
    "$$\n",
    "\\large\n",
    "(\\mathrm{true~value~of~}y_{i}) = A + B x_{i}\n",
    "$$\n",
    "\n",
    "Thus, it is possible to find the value of $y$ for two linearly related values when $A$ and $B$ are known.\n",
    "\n",
    "Finding the values of $A$ and $B$ then for the case of a linear regression to some $x$-$y$ data is fairly straightforward, though it does involve a bit of algebra. For our purposes, I'll refer you to Chapter 8 of [Taylor, 1997](http://www.uscibooks.com/taylornb.htm) for a complete explanation of how to find $A$ and $B$, and simply present the relevant equations below. The value of the $y$-intercept can be found using\n",
    "\n",
    "$$\n",
    "\\large\n",
    "A = \\frac{\\sum{x^{2}} \\sum{y} - \\sum{x} \\sum{xy}}{\\Delta}\n",
    "$$\n",
    "\n",
    "where $x$ is the $i$th data point plotted on the $x$-axis, $y$ is the $i$th data point plotted on the $y$-axis, and $\\Delta$ is defined below.\n",
    "\n",
    "The line slope can be found using\n",
    "\n",
    "$$\n",
    "\\large\n",
    "B = \\frac{N \\sum{xy} - \\sum{x} \\sum {y}}{\\Delta}\n",
    "$$\n",
    "\n",
    "where $N$ is the number of values in the regression.\n",
    "\n",
    "And the value of $\\Delta$ is\n",
    "\n",
    "$$\n",
    "\\large\n",
    "\\Delta = N \\sum{x^{2}} - \\left( \\sum{x} \\right)^{2}\n",
    "$$\n",
    "\n",
    "With the equations above, you are now able to calculate *unweighted* regression lines, the best-fit lines to some $x$-$y$ data in which the uncertainties in the measurements are not considered to influence the fit of the line. It is also possible to fit regression lines that consider the variable uncertainties in the data, referred to as *weighted regressions*, but will will not consider that type of regression for the time being."
   ]
  },
  {
   "cell_type": "markdown",
   "metadata": {},
   "source": [
    "## In-class demonstration space\n",
    "\n",
    "The cell below can be used for following live demonstrations during the class lesson."
   ]
  },
  {
   "cell_type": "code",
   "execution_count": 1,
   "metadata": {},
   "outputs": [],
   "source": [
    "# Coding done during class time goes below\n",
    "\n",
    "# Import the libraries we need\n",
    "import numpy as np\n",
    "import matplotlib.pyplot as plt"
   ]
  },
  {
   "cell_type": "code",
   "execution_count": 2,
   "metadata": {},
   "outputs": [],
   "source": [
    "# Create NumPy arrays with our toy dataset\n",
    "ages = np.array([34, 22, 22, 27, 31, 29, 22, 23, 20])\n",
    "years_of_univ = np.array([7, 4, 4, 7, 5, 4, 4, 4, 3])"
   ]
  },
  {
   "cell_type": "code",
   "execution_count": 3,
   "metadata": {},
   "outputs": [],
   "source": [
    "# Calculate our slope and y-intercept\n",
    "delta = len(ages) * (ages**2).sum() - (ages.sum())**2\n",
    "a = (((ages**2).sum() * years_of_univ.sum()) - (ages.sum() * (ages * years_of_univ).sum())) / delta\n",
    "b = ((len(ages) * (ages * years_of_univ).sum()) - (ages.sum() * years_of_univ.sum())) / delta"
   ]
  },
  {
   "cell_type": "code",
   "execution_count": 4,
   "metadata": {},
   "outputs": [
    {
     "name": "stdout",
     "output_type": "stream",
     "text": [
      "Slope: 0.21378504672897197\n"
     ]
    }
   ],
   "source": [
    "print(f\"Slope: {b}\")"
   ]
  },
  {
   "cell_type": "code",
   "execution_count": 5,
   "metadata": {},
   "outputs": [
    {
     "name": "stdout",
     "output_type": "stream",
     "text": [
      "Intercept: -0.7967289719626168\n"
     ]
    }
   ],
   "source": [
    "print(f\"Intercept: {a}\")"
   ]
  },
  {
   "cell_type": "code",
   "execution_count": 11,
   "metadata": {},
   "outputs": [
    {
     "data": {
      "text/plain": [
       "Text(28, 3, 'Correlation coefficient: 0.74')"
      ]
     },
     "execution_count": 11,
     "metadata": {},
     "output_type": "execute_result"
    },
    {
     "data": {
      "image/png": "[encoded data removed]",
      "text/plain": [
       "<Figure size 576x432 with 1 Axes>"
      ]
     },
     "metadata": {
      "needs_background": "light"
     },
     "output_type": "display_data"
    }
   ],
   "source": [
    "# Create figure and axes\n",
    "fig, ax = plt.subplots(1, 1, figsize=(8, 6))\n",
    "\n",
    "# Plot data\n",
    "ax.scatter(ages, years_of_univ)\n",
    "ax.plot([ages.min(), ages.max()], [a + b * ages.min(), a + b * ages.max()])\n",
    "ax.set_xlabel('Age')\n",
    "ax.set_ylabel('Years of university education')\n",
    "ax.text(28, 3, f\"Correlation coefficient: {r:.2f}\")"
   ]
  },
  {
   "cell_type": "markdown",
   "metadata": {},
   "source": [
    "$$\n",
    "\\large\n",
    "r = \\frac{\\sum{\\left(x_{i} - \\bar{x} \\right)\\left(y_{i} - \\bar{y} \\right)}}{\\sqrt{\\sum{\\left(x_{i} - \\bar{x} \\right)^2} \\sum{\\left(y_{i} - \\bar{y} \\right)^2}}},\n",
    "$$"
   ]
  },
  {
   "cell_type": "code",
   "execution_count": 10,
   "metadata": {},
   "outputs": [
    {
     "name": "stdout",
     "output_type": "stream",
     "text": [
      "Correlation coefficient: 0.74\n"
     ]
    }
   ],
   "source": [
    "# Initialize our summing variables\n",
    "topsum = 0\n",
    "bottomsumx = 0\n",
    "bottomsumy = 0\n",
    "\n",
    "# Calculate our top and bottom sums\n",
    "for i in range(len(ages)):\n",
    "    topsum = topsum + (ages[i] - ages.mean()) * (years_of_univ[i] - years_of_univ.mean())\n",
    "    bottomsumx = bottomsumx + (ages[i] - ages.mean())**2\n",
    "    bottomsumy = bottomsumy + (years_of_univ[i] - years_of_univ.mean())**2\n",
    "\n",
    "# Calculate r\n",
    "r = topsum / np.sqrt(bottomsumx * bottomsumy)\n",
    "\n",
    "# Print out result\n",
    "print(f\"Correlation coefficient: {r:.2f}\")"
   ]
  },
  {
   "cell_type": "code",
   "execution_count": null,
   "metadata": {},
   "outputs": [],
   "source": []
  }
 ],
 "metadata": {
  "kernelspec": {
   "display_name": "Python 3 (ipykernel)",
   "language": "python",
   "name": "python3"
  },
  "language_info": {
   "codemirror_mode": {
    "name": "ipython",
    "version": 3
   },
   "file_extension": ".py",
   "mimetype": "text/x-python",
   "name": "python",
   "nbconvert_exporter": "python",
   "pygments_lexer": "ipython3",
   "version": "3.8.12"
  }
 },
 "nbformat": 4,
 "nbformat_minor": 4
}
