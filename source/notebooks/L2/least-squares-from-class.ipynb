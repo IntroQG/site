{
 "cells": [
  {
   "cell_type": "markdown",
   "metadata": {
    "tags": []
   },
   "source": [
    "# Least squares regressions\n",
    "\n",
    "Finnish university students are encouraged to use the CSC Notebooks platform.<br/>\n",
    "<a href=\"https://notebooks.csc.fi\"><img alt=\"CSC badge\" src=\"https://img.shields.io/badge/launch-CSC%20notebook-blue.svg\" style=\"vertical-align:text-bottom\"></a>\n",
    "\n",
    "Others can follow the lesson and fill in their student notebooks using Binder.<br/>\n",
    "<a href=\"https://mybinder.org/v2/gh/introqg/notebooks/master?urlpath=lab/tree/L2/least-squares.ipynb\"><img alt=\"Binder badge\" src=\"https://img.shields.io/badge/launch-binder-red.svg\" style=\"vertical-align:text-bottom\"></a>\n",
    "\n",
    "A *linear regression* or *least squares fit for a line* is a common way of fitting a line to a set of point data for two variables, such as on an *x*-*y* graph. In essence, we assume the two values are *linearly* related to one another and find the line that fits the data best. Once done, this provides a means to estimate values from the line where no data may exist in the scatter plot dataset. Not all data should be expected to be fit well by a line, but linear regressions are a powerful method for determining cases when two variables are directly related to one another. A common example might be the temperature at which magma erupts versus the SiO<sub>2</sub> content of the magma, as shown below in Figure 2.1.\n",
    "\n",
    "![Magma temperatures](img/magma-temps.png)\n",
    "\n",
    "_**Figure 2.1**. Eruption temperatures of magmas as a function of their SiO<sub>2</sub> content with a linear regression line. Source: Figure 16.1 from [McKillup and Dyar, 2010](http://www.cambridge.org/fi/academic/subjects/earth-and-environmental-science/earth-science-general-interest/geostatistics-explained-introductory-guide-earth-scientists?format=HB&isbn=9780521763226)._\n",
    "\n",
    "## The equation of a line\n",
    "\n",
    "In order to perform a linear regression, we need to find the equation of the best-fit line, such the one that might relate temperature and SiO<sub>2</sub> content in the example above. To do this, we first need to recall the equation for a line:\n",
    "\n",
    "$$\n",
    "\\large\n",
    "y = A + B x\n",
    "$$\n",
    "where $x$ and $y$ are the coordinates of the data points, $A$ is the $y$-intercept, and $B$ is the slope of the line.\n",
    "\n",
    "Thus, in order to calculate a \"best fit\" line to some data our task is to determine the values of the constants $A$ and $B$. Consider the example below in which $A$ and $B$ are known. If we make the rather common assumption that the uncertainties for the values on the $x$ axis are negligible compared to the uncertainties along the $y$ axis, we can say:\n",
    "\n",
    "$$\n",
    "\\large\n",
    "(\\mathrm{true~value~of~}y_{i}) = A + B x_{i}\n",
    "$$\n",
    "\n",
    "Thus, it is possible to find the value of $y$ for two linearly related values when $A$ and $B$ are known.\n",
    "\n",
    "## Finding the coefficients $A$ and $B$\n",
    "\n",
    "Finding the values of $A$ and $B$ then for the case of a linear regression to some $x$-$y$ data is fairly straightforward, though it does involve a bit of algebra. For our purposes, I'll refer you to Chapter 8 of [Taylor, 1997](http://www.uscibooks.com/taylornb.htm) for a complete explanation of how to find $A$ and $B$, and simply present the relevant equations below.\n",
    "\n",
    "The value of the $y$-intercept can be found using\n",
    "\n",
    "$$\n",
    "\\large\n",
    "A = \\frac{\\sum{x^{2}} \\sum{y} - \\sum{x} \\sum{xy}}{\\Delta}\n",
    "$$\n",
    "\n",
    "where $x$ is the $i$th data point plotted on the $x$-axis, $y$ is the $i$th data point plotted on the $y$-axis, and $\\Delta$ is defined below.\n",
    "\n",
    "The line slope can be found using\n",
    "\n",
    "$$\n",
    "\\large\n",
    "B = \\frac{N \\sum{xy} - \\sum{x} \\sum {y}}{\\Delta}\n",
    "$$\n",
    "\n",
    "where $N$ is the number of values in the regression.\n",
    "\n",
    "And the value of $\\Delta$ is\n",
    "\n",
    "$$\n",
    "\\large\n",
    "\\Delta = N \\sum{x^{2}} - \\left( \\sum{x} \\right)^{2}\n",
    "$$\n",
    "\n",
    "With the equations above, you are now able to calculate an *unweighted* linear regression, the best-fit lines to some $x$-$y$ data in which the uncertainties in the measurements are not considered to influence the fit of the line. It is also possible to fit regression lines that consider the variable uncertainties in the data, referred to as *weighted regressions*, but will will not consider that type of regression at this stage."
   ]
  },
  {
   "cell_type": "markdown",
   "metadata": {},
   "source": [
    "## In-class demonstration space\n",
    "\n",
    "The cell below can be used for following live demonstrations during the class lesson."
   ]
  },
  {
   "cell_type": "code",
   "execution_count": 1,
   "metadata": {
    "tags": []
   },
   "outputs": [],
   "source": [
    "# Coding done during class time goes below\n",
    "import numpy as np\n",
    "import matplotlib.pyplot as plt"
   ]
  },
  {
   "cell_type": "code",
   "execution_count": 29,
   "metadata": {
    "tags": []
   },
   "outputs": [],
   "source": [
    "# Height (cm)\n",
    "x = [182, 193, 178, 173, 183, 164, 176, 163, 164, 162]\n",
    "# Shoe size\n",
    "y = [43, 46, 43, 41, 45, 37, 43, 39, 39, 38]\n",
    "\n",
    "# Convert to arrays\n",
    "x = np.array(x)\n",
    "y = np.array(y)"
   ]
  },
  {
   "cell_type": "code",
   "execution_count": 30,
   "metadata": {
    "tags": []
   },
   "outputs": [],
   "source": [
    "n = len(x)\n",
    "delta = n * (x**2).sum() - (x.sum()) ** 2\n",
    "a = (((x**2).sum() * y.sum()) - (x.sum() * (x * y).sum())) / delta\n",
    "b = ((n * (x * y).sum()) - (x.sum() * y.sum())) / delta"
   ]
  },
  {
   "cell_type": "code",
   "execution_count": 31,
   "metadata": {
    "tags": []
   },
   "outputs": [
    {
     "name": "stdout",
     "output_type": "stream",
     "text": [
      "Value of a: -7.290641387656313\n",
      "Value of b: 0.2801532876159742\n",
      "Value of delta: 9916\n"
     ]
    }
   ],
   "source": [
    "print(f\"Value of a: {a}\")\n",
    "print(f\"Value of b: {b}\")\n",
    "print(f\"Value of delta: {delta}\")"
   ]
  },
  {
   "cell_type": "code",
   "execution_count": 32,
   "metadata": {
    "tags": []
   },
   "outputs": [],
   "source": [
    "r = ((x - x.mean()) * (y - y.mean())).sum() / np.sqrt(\n",
    "    ((x - x.mean()) ** 2).sum() * ((y - y.mean()) ** 2).sum()\n",
    ")"
   ]
  },
  {
   "cell_type": "code",
   "execution_count": 33,
   "metadata": {
    "tags": []
   },
   "outputs": [
    {
     "name": "stdout",
     "output_type": "stream",
     "text": [
      "Value of r: 0.9602686685888652\n"
     ]
    }
   ],
   "source": [
    "print(f\"Value of r: {r}\")"
   ]
  },
  {
   "cell_type": "code",
   "execution_count": 34,
   "metadata": {
    "tags": []
   },
   "outputs": [
    {
     "data": {
      "text/plain": [
       "Text(162, 46, 'Correlation coeff: 0.96')"
      ]
     },
     "execution_count": 34,
     "metadata": {},
     "output_type": "execute_result"
    },
    {
     "data": {
      "image/png": "[encoded data removed]",
      "text/plain": [
       "<Figure size 640x480 with 1 Axes>"
      ]
     },
     "metadata": {},
     "output_type": "display_data"
    }
   ],
   "source": [
    "fig, ax = plt.subplots(1, 1)\n",
    "ax.plot(x, y, \"ko\")\n",
    "ax.set_xlabel(\"Height (cm)\")\n",
    "ax.set_ylabel(\"Shoe size\")\n",
    "ax.plot([160, 195], [a + b * 160, a + b * 195], \"r-\")\n",
    "ax.text(162, 46, f\"Correlation coeff: {r:.2f}\")"
   ]
  },
  {
   "cell_type": "code",
   "execution_count": null,
   "metadata": {},
   "outputs": [],
   "source": []
  }
 ],
 "metadata": {
  "kernelspec": {
   "display_name": "Python 3 (ipykernel)",
   "language": "python",
   "name": "python3"
  },
  "language_info": {
   "codemirror_mode": {
    "name": "ipython",
    "version": 3
   },
   "file_extension": ".py",
   "mimetype": "text/x-python",
   "name": "python",
   "nbconvert_exporter": "python",
   "pygments_lexer": "ipython3",
   "version": "3.11.6"
  }
 },
 "nbformat": 4,
 "nbformat_minor": 4
}
