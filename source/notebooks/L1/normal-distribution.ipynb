{
 "cells": [
  {
   "cell_type": "markdown",
   "id": "962720aa-ea5c-449a-b1b4-22f2457c4ab3",
   "metadata": {},
   "source": [
    "# The normal distribution\n",
    "\n",
    "```{attention}\n",
    "Finnish university students are encouraged to use the CSC Notebooks platform.<br/>\n",
    "<a href=\"https://notebooks.csc.fi/#/blueprint/24958184a3954101a2c701b6d1056feb\"><img alt=\"CSC badge\" src=\"https://img.shields.io/badge/launch-CSC%20notebook-blue.svg\" style=\"vertical-align:text-bottom\"></a>\n",
    "\n",
    "Others can follow the lesson and fill in their student notebooks using Binder.<br/>\n",
    "<a href=\"https://mybinder.org/v2/gh/introqg/notebooks/master?urlpath=lab/tree/L1/normal-distribution.ipynb\"><img alt=\"Binder badge\" src=\"https://img.shields.io/badge/launch-binder-red.svg\" style=\"vertical-align:text-bottom\"></a>\n",
    "```\n",
    "\n",
    "The {term}`normal distribution`, also known as the *Gaussian*, refers to the mathematical function used to describe the bell-shaped curve of expected values for any measurement subject to small random errors. Probably most of you have already seen this distribution before, and here we briefly outline its definition and use.\n",
    "\n",
    "![The normal distribution](img/Gaussian.png)\n",
    "\n",
    "_**Figure 1.5**. The normal distribution of cinder code slope angles. Source: Figure 7.1 from [McKillup and Dyar, 2010](http://www.cambridge.org/fi/academic/subjects/earth-and-environmental-science/earth-science-general-interest/geostatistics-explained-introductory-guide-earth-scientists?format=HB&isbn=9780521763226)._\n",
    "\n",
    "\n",
    "Many geological values can be described using the *normal distribution*, where the most common measured values are proximal to the *mean*, but small numbers of measurements may have values quite far from the mean. The example in Figure 1.5 is for the slope angles of cinder cones, which may be expected to be similar in many cases. This might relate to the angle of repose of the cinders that form the cone.\n",
    "\n",
    "![The normal distribution and standard deviations](img/Gaussian-sd.png)\n",
    "\n",
    "_**Figure 1.6**. The relationships between the normal distribution and standard deviation. Source: Figure 7.3 from [McKillup and Dyar, 2010](http://www.cambridge.org/fi/academic/subjects/earth-and-environmental-science/earth-science-general-interest/geostatistics-explained-introductory-guide-earth-scientists?format=HB&isbn=9780521763226)._\n",
    "\n",
    "\n",
    "Assuming we have a representative sample, the *standard deviation* can be related to the percentage of measurements that would be expected to fall within some distance from the *mean*. If the sample is representative, the sample mean $\\bar{x}$ and population mean $\\mu$ should be the same. In this case, ~68% of measurements should be within plus/minus one standard deviation of the mean, and ~95% should fall within plus/minus two standard deviations.\n",
    "\n",
    "You will learn more about the *normal distribution* in the exercise for this week."
   ]
  }
 ],
 "metadata": {
  "kernelspec": {
   "display_name": "Python 3 (ipykernel)",
   "language": "python",
   "name": "python3"
  },
  "language_info": {
   "codemirror_mode": {
    "name": "ipython",
    "version": 3
   },
   "file_extension": ".py",
   "mimetype": "text/x-python",
   "name": "python",
   "nbconvert_exporter": "python",
   "pygments_lexer": "ipython3",
   "version": "3.8.12"
  }
 },
 "nbformat": 4,
 "nbformat_minor": 5
}
