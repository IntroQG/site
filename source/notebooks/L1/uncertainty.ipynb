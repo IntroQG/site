{
 "cells": [
  {
   "cell_type": "markdown",
   "id": "db4eaa76-2592-4845-80b6-19fcfaf6ce06",
   "metadata": {},
   "source": [
    "# Uncertainty\n",
    "\n",
    "```{attention}\n",
    "Finnish university students are encouraged to use the CSC Notebooks platform.<br/>\n",
    "<a href=\"https://notebooks.csc.fi/\"><img alt=\"CSC badge\" src=\"https://img.shields.io/badge/launch-CSC%20notebook-blue.svg\" style=\"vertical-align:text-bottom\"></a>\n",
    "\n",
    "Others can follow the lesson and fill in their student notebooks using Binder.<br/>\n",
    "<a href=\"https://mybinder.org/v2/gh/introqg/notebooks/master?urlpath=lab/tree/L1/uncertainty.ipynb\"><img alt=\"Binder badge\" src=\"https://img.shields.io/badge/launch-binder-red.svg\" style=\"vertical-align:text-bottom\"></a>\n",
    "```\n",
    "\n",
    "Uncertainty is probably a larger issue for geoscience than for many other natural sciences, simply owing to the fact that so much of the Earth is not physically accessible to geoscientists. A nice example of the \"cost\" of uncertainty is drilling for hydrocarbons in deep water. Drill ships cost ~350 000€ per day, and operating an oil platform costs ~300 000€ per day. A large, proven hydrocarbon resource is obviously worth a great deal of money, but as a geoscientist who might help decide where to drill, it should be clear that there is a big price to pay when you're wrong.\n",
    "\n",
    "## Some general uncertainty concepts\n",
    "\n",
    "It is not possible to make exact measurements. For a geologist's compass, graduated in increments of 1 degree, the best measurement that can be made would be some degree value plus/minus 0.5°. We can say the compass needle points to a given degree, but not more precicely than within one half of a degree of that value. Even with extremely precise equipment, there will always be some uncertainty.\n",
    "\n",
    "Our goal as geoscientists is to minimize uncertainties by making measurements that are as *precise* and *accurate* as possible (Figure 1.3).\n",
    "\n",
    "![Errors with a known value](img/errors-known.png)\n",
    "\n",
    "_**Figure 1.3**. Random and systematic errors when the true value is known. Source: Figure 4.1 from [Taylor, 1997](http://www.uscibooks.com/taylornb.htm)._\n",
    "\n",
    "\n",
    "A {term}`precise measurement` has a small {term}`random error` between measurements.\n",
    "An {term}`accurate measurement` has a small {term}`systematic error` from the \"known\" value.\n",
    "*Random errors* are possible to detect my repeated measurements, whereas *systematic errors* cannot be detected by repeated measurements (Figure 1.4).\n",
    "\n",
    "![Errors with an unknown value](img/errors-unknown.png)\n",
    "\n",
    "_**Figure 1.4**. Random and systematic errors when the true value is unknown. Here, it should be clear it is not easy to detect systematic error. Source: Figure 4.2 from [Taylor, 1997](http://www.uscibooks.com/taylornb.htm)._\n",
    "\n",
    "\n",
    "Systematic error might arise, for example, from a problem in the measurement equipment.\n",
    "This is one reason why blanks and standards are used for measuring isotope concentrations when measuring geochronometer ages, for example."
   ]
  }
 ],
 "metadata": {
  "kernelspec": {
   "display_name": "Python 3 (ipykernel)",
   "language": "python",
   "name": "python3"
  },
  "language_info": {
   "codemirror_mode": {
    "name": "ipython",
    "version": 3
   },
   "file_extension": ".py",
   "mimetype": "text/x-python",
   "name": "python",
   "nbconvert_exporter": "python",
   "pygments_lexer": "ipython3",
   "version": "3.11.6"
  }
 },
 "nbformat": 4,
 "nbformat_minor": 5
}
